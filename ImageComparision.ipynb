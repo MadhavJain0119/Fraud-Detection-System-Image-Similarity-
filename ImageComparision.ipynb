{
 "cells": [
  {
   "cell_type": "code",
   "execution_count": 3,
   "id": "cbdd2353",
   "metadata": {},
   "outputs": [
    {
     "data": {
      "text/plain": [
       "1"
      ]
     },
     "execution_count": 3,
     "metadata": {},
     "output_type": "execute_result"
    }
   ],
   "source": [
    "import subprocess\n",
    "\n",
    "command = \"sudo apt-get install poppler-utils\"\n",
    "subprocess.call(command, shell=True)\n"
   ]
  },
  {
   "cell_type": "code",
   "execution_count": 5,
   "id": "c0a8df25",
   "metadata": {},
   "outputs": [
    {
     "name": "stdout",
     "output_type": "stream",
     "text": [
      "Collecting pdf2image\n",
      "  Downloading pdf2image-1.16.3-py3-none-any.whl (11 kB)\n",
      "Requirement already satisfied: pillow in c:\\users\\madha\\anaconda3\\lib\\site-packages (from pdf2image) (8.4.0)\n",
      "Installing collected packages: pdf2image\n",
      "Successfully installed pdf2image-1.16.3\n"
     ]
    }
   ],
   "source": [
    "!pip install pdf2image"
   ]
  },
  {
   "cell_type": "code",
   "execution_count": 6,
   "id": "0529f52c",
   "metadata": {},
   "outputs": [],
   "source": [
    "# import module\n",
    "\n",
    "from pdf2image import convert_from_path\n",
    "import os\n",
    "\n",
    "# Store Pdf with convert_from_path function\n",
    "images = convert_from_path('ML Review3.pdf')\n",
    "\n",
    "folder_path = 'pages'\n",
    "\n",
    "# Loop through the images and save them in the specified folder\n",
    "for i, image in enumerate(images):\n",
    "    filename = 'page' + str(i) + '.jpg'\n",
    "    file_path = os.path.join(folder_path, filename)\n",
    "    image.save(file_path, 'JPEG')\n",
    "\n",
    "for i in range(len(images)):\n",
    "\n",
    "\t# Save pages as images in the pdf\n",
    "\t\n",
    "\timages[i].save('page'+ str(i) +'.jpg', 'JPEG')\n"
   ]
  },
  {
   "cell_type": "code",
   "execution_count": 1,
   "id": "0bc392ac",
   "metadata": {},
   "outputs": [
    {
     "name": "stderr",
     "output_type": "stream",
     "text": [
      "C:\\Users\\madha\\anaconda3\\lib\\site-packages\\thefuzz\\fuzz.py:11: UserWarning: Using slow pure-python SequenceMatcher. Install python-Levenshtein to remove this warning\n",
      "  warnings.warn('Using slow pure-python SequenceMatcher. Install python-Levenshtein to remove this warning')\n",
      "CUDA not available - defaulting to CPU. Note: This module is much faster with a GPU.\n"
     ]
    },
    {
     "name": "stdout",
     "output_type": "stream",
     "text": [
      "Image: img1.png\n",
      "Image Similarity: 1\n",
      "Text Similarity: 100\n",
      "The images are similar and the text also matches.\n",
      "\n"
     ]
    },
    {
     "name": "stderr",
     "output_type": "stream",
     "text": [
      "CUDA not available - defaulting to CPU. Note: This module is much faster with a GPU.\n"
     ]
    },
    {
     "name": "stdout",
     "output_type": "stream",
     "text": [
      "Image: img2.png\n",
      "Image Similarity: 1\n",
      "Text Similarity: 82\n",
      "The images are similar and the text also matches.\n",
      "\n"
     ]
    },
    {
     "name": "stderr",
     "output_type": "stream",
     "text": [
      "CUDA not available - defaulting to CPU. Note: This module is much faster with a GPU.\n"
     ]
    },
    {
     "name": "stdout",
     "output_type": "stream",
     "text": [
      "Image: img3.jpg\n",
      "Image Similarity: 1\n",
      "Text Similarity: 53\n",
      "The images are similar and the text also matches.\n",
      "\n"
     ]
    },
    {
     "name": "stderr",
     "output_type": "stream",
     "text": [
      "CUDA not available - defaulting to CPU. Note: This module is much faster with a GPU.\n"
     ]
    },
    {
     "name": "stdout",
     "output_type": "stream",
     "text": [
      "Image: img4.jpg\n",
      "Image Similarity: 1\n",
      "Text Similarity: 86\n",
      "The images are similar and the text also matches.\n",
      "\n"
     ]
    }
   ],
   "source": [
    "import numpy as np\n",
    "import cv2 as cv\n",
    "from matplotlib import pyplot as plt\n",
    "from thefuzz import fuzz\n",
    "import easyocr\n",
    "from pylab import rcParams\n",
    "from IPython.display import Image\n",
    "import os\n",
    "\n",
    "def imgsimilarity(img1, img2):\n",
    "    MIN_MATCH_COUNT = 50\n",
    "\n",
    "    # Initiate SIFT detector\n",
    "    sift = cv.SIFT_create()\n",
    "\n",
    "    # find the keypoints and descriptors with SIFT\n",
    "    kp1, des1 = sift.detectAndCompute(img1,None)\n",
    "    kp2, des2 = sift.detectAndCompute(img2,None)\n",
    "    \n",
    "\n",
    "    kps_img = cv.drawKeypoints(\n",
    "        image=img2,\n",
    "        keypoints=kp2,\n",
    "        outImage=img2\n",
    "    )\n",
    "\n",
    "    # matching algorithm\n",
    "    FLANN_INDEX_KDTREE = 1\n",
    "    index_params = dict(algorithm=FLANN_INDEX_KDTREE, trees=5)\n",
    "    search_params = dict(checks=50)\n",
    "\n",
    "    flann = cv.FlannBasedMatcher(index_params, search_params)\n",
    "\n",
    "    matches = flann.knnMatch(des1,des2,k=2) #(tuple with matches)\n",
    "\n",
    "    # store all the good matches as per Lowe's ratio test.\n",
    "    good = []\n",
    "    for m,n in matches:\n",
    "        if m.distance < 0.5*n.distance:\n",
    "            good.append(m)\n",
    "\n",
    "    if len(good) > MIN_MATCH_COUNT:\n",
    "        return 1\n",
    "    else:\n",
    "        return 0\n",
    "\n",
    "def text_extract(img1, img2):\n",
    "    rcParams['figure.figsize'] = 8, 16\n",
    "    reader = easyocr.Reader(['en'])\n",
    "    Image(img1)\n",
    "    output = reader.readtext(img1)\n",
    "    cord = \"\"\n",
    "    for i in range(len(output)):\n",
    "        cord += output[i][1]\n",
    "        cord += \" \"\n",
    "    \n",
    "    Image(img2)\n",
    "    output_2 = reader.readtext(img2)\n",
    "    cord_2 = \"\"\n",
    "    for i in range(len(output_2)):\n",
    "        cord_2 += output_2[i][1]\n",
    "        cord_2 += \" \"\n",
    "    simple_similarity_score = fuzz.ratio(cord.lower(), cord_2.lower())\n",
    "    partial_similarity_score = fuzz.partial_ratio(cord.lower(), cord_2.lower())\n",
    "    token_similarity_score = fuzz.token_sort_ratio(cord.lower(), cord_2.lower())\n",
    "    similarity_score = max(simple_similarity_score, partial_similarity_score, token_similarity_score)\n",
    "    return similarity_score\n",
    "\n",
    "\n",
    "        \n",
    "img1 = cv.imread('img1.png', 0) # queryImage\n",
    "image_folder = 'images'\n",
    "for filename in os.listdir(image_folder):\n",
    "    img2_path = os.path.join(image_folder, filename)\n",
    "    img2 = cv.imread(img2_path, 0)  # trainImage\n",
    "    imagesimilarity = imgsimilarity(img1, img2)\n",
    "    textsimilarity = text_extract(img1, img2)\n",
    "    print(f\"Image: {filename}\")\n",
    "    print(\"Image Similarity:\", imagesimilarity)\n",
    "    print(\"Text Similarity:\", textsimilarity)\n",
    "    \n",
    "    if imagesimilarity == 1 and textsimilarity > 50:\n",
    "        print('The images are similar and the text also matches.\\n')\n",
    "\n",
    "    elif imagesimilarity == 1 and textsimilarity < 50:\n",
    "        print('The images are similar but the text is different.\\n')\n",
    "\n",
    "    elif imagesimilarity == 0 and textsimilarity > 50:\n",
    "        print('The text is similar but the images are different.\\n')\n",
    "\n",
    "    else:\n",
    "        print('Both images and text are different.\\n')"
   ]
  },
  {
   "cell_type": "code",
   "execution_count": null,
   "id": "a7c3856b",
   "metadata": {},
   "outputs": [],
   "source": []
  }
 ],
 "metadata": {
  "kernelspec": {
   "display_name": "Python 3 (ipykernel)",
   "language": "python",
   "name": "python3"
  },
  "language_info": {
   "codemirror_mode": {
    "name": "ipython",
    "version": 3
   },
   "file_extension": ".py",
   "mimetype": "text/x-python",
   "name": "python",
   "nbconvert_exporter": "python",
   "pygments_lexer": "ipython3",
   "version": "3.9.7"
  }
 },
 "nbformat": 4,
 "nbformat_minor": 5
}
